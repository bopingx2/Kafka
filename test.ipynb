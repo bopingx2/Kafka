{
 "cells": [
  {
   "cell_type": "code",
   "execution_count": 4,
   "metadata": {},
   "outputs": [],
   "source": [
    "import csv\n",
    "import json\n",
    "import pandas as pd\n",
    "import numpy as np\n",
    "import psycopg2"
   ]
  },
  {
   "cell_type": "code",
   "execution_count": 3,
   "metadata": {},
   "outputs": [],
   "source": [
    "df = pd.read_csv('employee_salaries_1.csv')"
   ]
  },
  {
   "cell_type": "code",
   "execution_count": 4,
   "metadata": {},
   "outputs": [],
   "source": [
    "df.to_csv('employee_salaries_2.csv', index=False, quoting=csv.QUOTE_ALL)"
   ]
  },
  {
   "cell_type": "code",
   "execution_count": 5,
   "metadata": {},
   "outputs": [],
   "source": [
    "df['Initial Hire Date'] = pd.to_datetime(df['Initial Hire Date'])"
   ]
  },
  {
   "cell_type": "code",
   "execution_count": 6,
   "metadata": {},
   "outputs": [],
   "source": [
    "df1 = df[df.Department.isin(['ECC', 'CIT', 'EMS'])]"
   ]
  },
  {
   "cell_type": "code",
   "execution_count": 7,
   "metadata": {},
   "outputs": [],
   "source": [
    "df2 = df1[df1['Initial Hire Date'].dt.year >= 2010]"
   ]
  },
  {
   "cell_type": "code",
   "execution_count": 8,
   "metadata": {},
   "outputs": [
    {
     "name": "stderr",
     "output_type": "stream",
     "text": [
      "C:\\Users\\MacTavish\\AppData\\Local\\Temp\\ipykernel_423200\\2973334192.py:1: SettingWithCopyWarning: \n",
      "A value is trying to be set on a copy of a slice from a DataFrame.\n",
      "Try using .loc[row_indexer,col_indexer] = value instead\n",
      "\n",
      "See the caveats in the documentation: https://pandas.pydata.org/pandas-docs/stable/user_guide/indexing.html#returning-a-view-versus-a-copy\n",
      "  df2['Salary'] = df2['Salary'].astype(int)\n"
     ]
    }
   ],
   "source": [
    "df2['Salary'] = df2['Salary'].astype(int)"
   ]
  },
  {
   "cell_type": "code",
   "execution_count": 11,
   "metadata": {},
   "outputs": [
    {
     "data": {
      "text/plain": [
       "701                           311-Operations Supervisor\n",
       "632                                    Account Clerk II\n",
       "132                                    Account Clerk II\n",
       "130                                    Account Clerk II\n",
       "134                                   Account Clerk III\n",
       "                             ...                       \n",
       "233                                Systems Engineer III\n",
       "174                                Systems Engineer III\n",
       "268                                Systems Engineer III\n",
       "259    Telecommunication System Installation Technician\n",
       "258    Telecommunication System Installation Technician\n",
       "Name: Position Title, Length: 287, dtype: object"
      ]
     },
     "execution_count": 11,
     "metadata": {},
     "output_type": "execute_result"
    }
   ],
   "source": [
    "df2['Position Title'].sort_values()"
   ]
  },
  {
   "cell_type": "code",
   "execution_count": null,
   "metadata": {},
   "outputs": [],
   "source": [
    "df2.groupby(by='Department').agg({'Salary': sum})"
   ]
  },
  {
   "cell_type": "code",
   "execution_count": null,
   "metadata": {},
   "outputs": [],
   "source": [
    "reader = CsvReader()\n",
    "lines = reader.read_csv('employee_salaries_1.csv')"
   ]
  },
  {
   "cell_type": "code",
   "execution_count": null,
   "metadata": {},
   "outputs": [],
   "source": [
    "emp_list = []"
   ]
  },
  {
   "cell_type": "code",
   "execution_count": null,
   "metadata": {},
   "outputs": [],
   "source": [
    "for line in lines[1:]:\n",
    "    if line[0] in ['ECC', 'CIT', 'EMS']:\n",
    "        if int(line[5][-4:]) > 2010:\n",
    "            emp_list.append(Employee.from_csv_line(line))"
   ]
  },
  {
   "cell_type": "code",
   "execution_count": null,
   "metadata": {},
   "outputs": [],
   "source": [
    "line[-1]"
   ]
  },
  {
   "cell_type": "code",
   "execution_count": null,
   "metadata": {},
   "outputs": [],
   "source": [
    "emp_list[0].to_json()"
   ]
  },
  {
   "cell_type": "code",
   "execution_count": null,
   "metadata": {},
   "outputs": [],
   "source": [
    "set([e.hr_date[-4:] for e in emp_list])"
   ]
  },
  {
   "cell_type": "code",
   "execution_count": null,
   "metadata": {},
   "outputs": [],
   "source": [
    "emp = {'dpt': line[0],\n",
    "        'div': line[1],\n",
    "        'pos': line[3],\n",
    "        'hr_date': line[5],\n",
    "        'salary': int(float(line[7]))}"
   ]
  },
  {
   "cell_type": "code",
   "execution_count": null,
   "metadata": {},
   "outputs": [],
   "source": [
    "json.dumps(emp)"
   ]
  },
  {
   "cell_type": "code",
   "execution_count": null,
   "metadata": {},
   "outputs": [],
   "source": [
    "e = emp_list[0]"
   ]
  },
  {
   "cell_type": "code",
   "execution_count": null,
   "metadata": {},
   "outputs": [],
   "source": [
    "emp"
   ]
  },
  {
   "cell_type": "code",
   "execution_count": null,
   "metadata": {},
   "outputs": [],
   "source": [
    "try:\n",
    "    conn = psycopg2.connect(\n",
    "        host=\"localhost\",\n",
    "        database=\"postgres\",\n",
    "        user=\"postgres\",\n",
    "        password=\"postgres\")\n",
    "    conn.autocommit = True\n",
    "\n",
    "    # create a cursor\n",
    "    cur = conn.cursor()\n",
    "    cur.execute(f\"\"\"\n",
    "                insert into department_employee(\n",
    "                    department\n",
    "                    , department_division\n",
    "                    , position_title\n",
    "                    , hire_date\n",
    "                    , salary\n",
    "                    ) values (\n",
    "                    '{emp['dpt']}'\n",
    "                    , '{emp['div']}'\n",
    "                    , '{emp['pos']}'\n",
    "                    , '{emp['hr_date']}'\n",
    "                    , {emp['salary']}\n",
    "                    ) on conflict do nothing\n",
    "                \"\"\")\n",
    "    cur.execute(f\"\"\"\n",
    "                insert into department_employee_salary(\n",
    "                    department\n",
    "                    , total_salary\n",
    "                    ) values (\n",
    "                    '{emp['dpt']}'\n",
    "                    , {emp['salary']}\n",
    "                    ) on conflict (department) do update set\n",
    "                    total_salary = department_employee_salary.total_salary + {emp['salary']}\n",
    "                \"\"\")\n",
    "    cur.close()\n",
    "\n",
    "except Exception as e:\n",
    "    print('error: ', e)"
   ]
  },
  {
   "cell_type": "code",
   "execution_count": 7,
   "metadata": {},
   "outputs": [],
   "source": [
    "import json\n",
    "import random\n",
    "import string\n",
    "import sys\n",
    "\n",
    "import psycopg2\n",
    "from confluent_kafka import Consumer, KafkaError, KafkaException\n",
    "from confluent_kafka.serialization import StringDeserializer\n",
    "\n",
    "TOPIC_NAME = \"employee_salary\"\n",
    "\n",
    "\n",
    "wait = 0\n",
    "count = 0\n",
    "host = \"localhost\"\n",
    "port = \"29092\"\n",
    "\n",
    "conf = {'bootstrap.servers': f'{host}:{port}',\n",
    "        'group.id': \"employee_salary\",\n",
    "        'enable.auto.commit': True,\n",
    "        'auto.offset.reset': 'earliest'}\n",
    "consumer = Consumer(conf)\n",
    "keep_runnning = True\n"
   ]
  },
  {
   "cell_type": "code",
   "execution_count": 4,
   "metadata": {},
   "outputs": [],
   "source": [
    "def persist_employee(msg):\n",
    "    emp = json.loads(StringDeserializer('utf_8')(msg.value()))\n",
    "    print(emp)"
   ]
  },
  {
   "cell_type": "code",
   "execution_count": 8,
   "metadata": {},
   "outputs": [
    {
     "name": "stdout",
     "output_type": "stream",
     "text": [
      "Waiting...\n",
      "Waiting...\n",
      "Waiting...\n",
      "{'dpt': 'CIT', 'div': 'CIT 114 Mail Service', 'pos': 'Distribution Clerk II', 'hr_date': '22-Feb-2015', 'salary': 32405}\n",
      "1 messages have received.\n"
     ]
    }
   ],
   "source": [
    "try:\n",
    "    consumer.subscribe([TOPIC_NAME])\n",
    "    while keep_runnning:\n",
    "        if wait >= 5:\n",
    "            keep_runnning = False\n",
    "            continue\n",
    "\n",
    "        msg = consumer.poll(1.0)\n",
    "        if msg is None:\n",
    "            print(\"Waiting...\")\n",
    "            wait += 1\n",
    "\n",
    "        elif msg.error():\n",
    "            if msg.error().code() == KafkaError.PARTITION_EOF:\n",
    "                # End of partition event\n",
    "                sys.stderr.write('%% %s [%d] reached end at offset %d\\n' %\n",
    "                                    (msg.topic(), msg.partition(), msg.offset()))\n",
    "            elif msg.error():\n",
    "                raise KafkaException(msg.error())\n",
    "        else:\n",
    "            persist_employee(msg)\n",
    "            count += 1\n",
    "            print(f'{count} messages have received.')\n",
    "            break\n",
    "\n",
    "except KeyboardInterrupt:\n",
    "    pass\n",
    "\n",
    "finally:\n",
    "    consumer.close()"
   ]
  },
  {
   "cell_type": "code",
   "execution_count": 13,
   "metadata": {},
   "outputs": [
    {
     "data": {
      "text/plain": [
       "str"
      ]
     },
     "execution_count": 13,
     "metadata": {},
     "output_type": "execute_result"
    }
   ],
   "source": [
    "type(StringDeserializer('utf_8')(msg.value()))"
   ]
  },
  {
   "cell_type": "code",
   "execution_count": null,
   "metadata": {},
   "outputs": [],
   "source": [
    "try:\n",
    "    conn = psycopg2.connect(\n",
    "        host=\"localhost\",\n",
    "        database=\"postgres\",\n",
    "        user=\"postgres\",\n",
    "        password=\"postgres\")\n",
    "    conn.autocommit = True\n",
    "\n",
    "    # create a cursor\n",
    "    cur = conn.cursor()\n",
    "    cur.execute(f\"\"\"\n",
    "                insert into department_employee(\n",
    "                    department\n",
    "                    , department_division\n",
    "                    , position_title\n",
    "                    , hire_date\n",
    "                    , salary\n",
    "                    ) values (\n",
    "                    '{emp['dpt']}'\n",
    "                    , '{emp['div']}'\n",
    "                    , '{emp['pos']}'\n",
    "                    , '{emp['hr_date']}'\n",
    "                    , {emp['salary']}\n",
    "                    ) on conflict do nothing\n",
    "                \"\"\")\n",
    "    cur.execute(f\"\"\"\n",
    "                insert into department_employee_salary(\n",
    "                    department\n",
    "                    , total_salary\n",
    "                    ) values (\n",
    "                    '{emp['dpt']}'\n",
    "                    , {emp['salary']}\n",
    "                    ) on conflict (department) do update set\n",
    "                    total_salary = department_employee_salary.total_salary + {emp['salary']}\n",
    "                \"\"\")\n",
    "    cur.close()\n",
    "\n",
    "except Exception as e:\n",
    "    print('error: ', e)"
   ]
  },
  {
   "cell_type": "code",
   "execution_count": 6,
   "metadata": {},
   "outputs": [],
   "source": [
    "def read_cdc(last_id):\n",
    "    try:\n",
    "        conn = psycopg2.connect(\n",
    "            host=\"localhost\",\n",
    "            port=5433,\n",
    "            database=\"source\",\n",
    "            user=\"source\",\n",
    "            password=\"source\")\n",
    "        conn.autocommit = True\n",
    "\n",
    "        cur = conn.cursor()\n",
    "        cur.execute(f\"\"\"\n",
    "                    select *\n",
    "                    from employees_cdc\n",
    "                    where action_id > {last_id}\n",
    "                    order by action_id\n",
    "                    \"\"\")\n",
    "        return cur.fetchall()\n",
    "\n",
    "    except Exception as e:\n",
    "        print('error: ', e)"
   ]
  },
  {
   "cell_type": "code",
   "execution_count": 18,
   "metadata": {},
   "outputs": [],
   "source": [
    "a = read_cdc(0)"
   ]
  },
  {
   "cell_type": "code",
   "execution_count": 17,
   "metadata": {},
   "outputs": [],
   "source": [
    "if a:\n",
    "    print('1')"
   ]
  },
  {
   "cell_type": "code",
   "execution_count": 20,
   "metadata": {},
   "outputs": [
    {
     "name": "stdout",
     "output_type": "stream",
     "text": [
      "<class 'datetime.date'>\n",
      "<class 'datetime.date'>\n",
      "<class 'datetime.date'>\n"
     ]
    }
   ],
   "source": [
    "for i in a:\n",
    "    print(type(i[4]))"
   ]
  },
  {
   "cell_type": "code",
   "execution_count": 22,
   "metadata": {},
   "outputs": [
    {
     "name": "stdout",
     "output_type": "stream",
     "text": [
      "[]\n"
     ]
    }
   ],
   "source": [
    "try:\n",
    "    conn = psycopg2.connect(\n",
    "        host=\"localhost\",\n",
    "        port=5434,\n",
    "        database=\"target\",\n",
    "        user=\"target\",\n",
    "        password=\"target\")\n",
    "    conn.autocommit = True\n",
    "    cur = conn.cursor()\n",
    "    cur.execute(f\"\"\"\n",
    "                select *\n",
    "                from employees\n",
    "                \"\"\")\n",
    "    print(cur.fetchall())\n",
    "    cur.close()\n",
    "except Exception as e:\n",
    "    print(emp)\n",
    "    print('error: ', e)"
   ]
  }
 ],
 "metadata": {
  "kernelspec": {
   "display_name": "bf",
   "language": "python",
   "name": "python3"
  },
  "language_info": {
   "codemirror_mode": {
    "name": "ipython",
    "version": 3
   },
   "file_extension": ".py",
   "mimetype": "text/x-python",
   "name": "python",
   "nbconvert_exporter": "python",
   "pygments_lexer": "ipython3",
   "version": "3.9.19"
  },
  "orig_nbformat": 4
 },
 "nbformat": 4,
 "nbformat_minor": 2
}
